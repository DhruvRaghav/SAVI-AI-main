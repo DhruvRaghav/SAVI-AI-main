{
  "nbformat": 4,
  "nbformat_minor": 0,
  "metadata": {
    "colab": {
      "provenance": []
    },
    "kernelspec": {
      "name": "python3",
      "display_name": "Python 3"
    },
    "language_info": {
      "name": "python"
    }
  },
  "cells": [
    {
      "cell_type": "code",
      "execution_count": null,
      "metadata": {
        "id": "DTlUDc4mIcgG"
      },
      "outputs": [],
      "source": [
        "# Install required packages\n",
        "!pip install --upgrade --quiet langchain langchain-core langchain-groq langchain-community langchain-openai\n",
        "\n",
        "# Import necessary libraries\n",
        "import os\n",
        "import re\n",
        "import json\n",
        "import time\n",
        "import math\n",
        "import ast\n",
        "from google.colab import userdata\n",
        "from langchain_groq import ChatGroq\n",
        "from langchain_core.prompts import ChatPromptTemplate\n",
        "from langchain_community.utilities import SQLDatabase\n",
        "from langchain_community.agent_toolkits import create_sql_agent\n",
        "from langchain_openai import ChatOpenAI"
      ]
    },
    {
      "cell_type": "markdown",
      "source": [
        "Environment Setup and API Configuration"
      ],
      "metadata": {
        "id": "kyvkACJxIlSG"
      }
    },
    {
      "cell_type": "code",
      "source": [
        "# Set up environment variables\n",
        "os.environ['GROQ_API_KEY'] = userdata.get('GROQ_API_KEY_4')\n",
        "\n",
        "# Load Table Metadata\n",
        "with open(\"/content/table_metadata.txt\", \"r\") as file:\n",
        "    table_metadata = json.load(file)\n",
        "\n",
        "# Connect to SQLite Database\n",
        "db = SQLDatabase.from_uri(\"sqlite:///SAVI_AI.db\")"
      ],
      "metadata": {
        "id": "NdoBvnmOIig6"
      },
      "execution_count": null,
      "outputs": []
    },
    {
      "cell_type": "markdown",
      "source": [
        "LLM Configuration and Prompt Templates"
      ],
      "metadata": {
        "id": "L_c6-8vzIsbq"
      }
    },
    {
      "cell_type": "code",
      "source": [
        "# Initialize LLM\n",
        "llm = ChatGroq(\n",
        "    temperature=0,\n",
        "    model_name=\"llama-3.3-70b-versatile\"\n",
        ")\n",
        "\n",
        "# Create SQL Query Prompt Template\n",
        "sql_prompt = ChatPromptTemplate.from_messages([\n",
        "    (\"system\", \"\"\"\n",
        "    You are an AI assistant specializing in SQL queries for demographic and social data analysis.\n",
        "    Follow these specific rules when converting natural language to SQL:\n",
        "\n",
        "    1. Column Naming:\n",
        "       - CRITICAL: Column names with hyphens MUST be wrapped in double quotes like \"Poverty Rate - Marion County\"\n",
        "       - NEVER use underscores to replace hyphens in column names (do NOT use Poverty_Rate_Marion_County)\n",
        "       - Example correct format: \"Poverty Rate - Marion - Black\", NOT Poverty_Rate_-_Marion_-_Black\n",
        "       - When referencing counties, use only the base name in the COUNTY column (e.g., 'Adams' not 'Adams County')\n",
        "       - For county-specific queries, use COUNTY = 'CountyName' AND STATE = 'StateName'\n",
        "\n",
        "    2. Percentage Values:\n",
        "       - Percentage columns store values as whole numbers (e.g., 25.5 means 25.5%)\n",
        "       - When filtering with percentage thresholds, use the actual number (e.g., > 25, not > 0.25)\n",
        "\n",
        "    3. Time-based Queries:\n",
        "       - Always include YEAR column in WHERE clause when years are mentioned\n",
        "       - CRITICAL: Always include YEAR in the SELECT clause when filtering by years\n",
        "       - When showing data across years, YEAR should always be the first column in the results\n",
        "       - For year ranges, use YEAR BETWEEN start_year AND end_year\n",
        "\n",
        "    4. Column Selection and Result Formatting:\n",
        "       - Include ONLY the columns specifically mentioned in the query or needed for the answer\n",
        "       - For \"highest\" or \"top\" requests, use ORDER BY column DESC LIMIT n\n",
        "       - For \"lowest\" requests, use ORDER BY column ASC LIMIT n\n",
        "       - When asked for \"last n years\", order by YEAR DESC LIMIT n\n",
        "       - When asked for differences between values, ensure proper column name quoting\n",
        "\n",
        "    5. Database-Specific:\n",
        "       - Always return exactly what is requested - don't add extra columns unless needed for context\n",
        "    \"\"\"),\n",
        "    (\"human\", \"{input}\")\n",
        "])\n",
        "\n",
        "# Create Results Explanation Prompt Template\n",
        "explanation_prompt = ChatPromptTemplate.from_messages([\n",
        "    (\"system\", \"\"\"\n",
        "    You are an AI assistant specializing in explaining data analysis results.\n",
        "    Given a user's question, the SQL query that was run, and the results returned,\n",
        "    create a clear, concise, and helpful natural language explanation of the results.\n",
        "\n",
        "    Guidelines:\n",
        "    - Format numerical values appropriately (add commas, $ for money, % for percentages)\n",
        "    - Directly answer the user's original question\n",
        "    - When results include multiple rows, summarize the key findings\n",
        "\n",
        "    \"\"\"),\n",
        "    (\"human\", \"\"\"\n",
        "    Original question: {user_query}\n",
        "\n",
        "    SQL query: {sql_query}\n",
        "\n",
        "    Query results: {query_result}\n",
        "\n",
        "    Please provide a natural language explanation of these results.\n",
        "    \"\"\")\n",
        "])\n",
        "\n",
        "# Create SQL Agent\n",
        "agent_executor = create_sql_agent(llm, db=db, agent_type=\"openai-tools\", verbose=True)"
      ],
      "metadata": {
        "id": "5gS-I_zdIijQ"
      },
      "execution_count": null,
      "outputs": []
    },
    {
      "cell_type": "markdown",
      "source": [
        "Query Processing Functions"
      ],
      "metadata": {
        "id": "U_c04gR4I0_H"
      }
    },
    {
      "cell_type": "code",
      "source": [
        "def generate_sql_response(user_input):\n",
        "    \"\"\"Generate SQL query from natural language input using LLM\"\"\"\n",
        "    formatted_prompt = sql_prompt.format(input=user_input)\n",
        "    response = llm.invoke([formatted_prompt])\n",
        "    return response.content\n",
        "\n",
        "def extract_sql_query(response_text):\n",
        "    \"\"\"Extract SQL query from LLM response\"\"\"\n",
        "    sql_match = re.search(r'```sql\\n(.*?)\\n```', response_text, re.DOTALL)\n",
        "    if sql_match:\n",
        "        return sql_match.group(1).strip()\n",
        "    else:\n",
        "        # If no code block found, try to find anything that looks like SQL\n",
        "        sql_match = re.search(r'SELECT.*?FROM.*?', response_text, re.DOTALL | re.IGNORECASE)\n",
        "        if sql_match:\n",
        "            return sql_match.group(0).strip()\n",
        "        return response_text.strip()\n",
        "\n",
        "def format_result_with_llm(user_query, sql_query, query_result):\n",
        "    \"\"\"Use the LLM to generate a natural language explanation of the SQL results\"\"\"\n",
        "\n",
        "    # Format the result for better readability\n",
        "    if isinstance(query_result, list):\n",
        "        # Try to format as a readable table for complex results\n",
        "        if len(query_result) > 0 and len(query_result) <= 10:\n",
        "            formatted_result = \"\\n\".join([str(row) for row in query_result])\n",
        "        else:\n",
        "            formatted_result = str(query_result)\n",
        "    else:\n",
        "        formatted_result = str(query_result)\n",
        "\n",
        "    formatted_prompt = explanation_prompt.format(\n",
        "        user_query=user_query,\n",
        "        sql_query=sql_query,\n",
        "        query_result=formatted_result\n",
        "    )\n",
        "\n",
        "    response = llm.invoke([formatted_prompt])\n",
        "    return response.content\n",
        "\n",
        "def query_data(user_input):\n",
        "    \"\"\"Process user input, generate SQL query, and execute against database\"\"\"\n",
        "    # Prepare schema information for context\n",
        "    schema_instruction = \"You can choose from the following tables and columns:\\n\"\n",
        "    for table_name, meta in table_metadata.items():\n",
        "        schema_instruction += f\"Table: {table_name}\\n\"\n",
        "        schema_instruction += f\"Description: {meta['description']}\\n\"\n",
        "        schema_instruction += \"Columns:\\n\"\n",
        "        for column_name, column_meta in meta['columns'].items():\n",
        "            schema_instruction += f\"  - {column_name}: {column_meta['description']}\\n\"\n",
        "        schema_instruction += \"\\n\"\n",
        "\n",
        "    full_input = f\"{schema_instruction}\\n{user_input}\"\n",
        "\n",
        "    try:\n",
        "        # Generate SQL from natural language\n",
        "        response_text = generate_sql_response(full_input)\n",
        "        sql_query = extract_sql_query(response_text)\n",
        "\n",
        "        # Execute the query against the database\n",
        "        query_response = db.run(sql_query)\n",
        "\n",
        "        return sql_query, query_response\n",
        "    except Exception as e:\n",
        "        return None, f\"Error processing request: {str(e)}\"\n",
        "\n",
        "def process_query(user_query, show_sql=False):\n",
        "    \"\"\"Process a query and return natural language explanation of results\"\"\"\n",
        "    sql_query, response = query_data(user_query)\n",
        "\n",
        "    if sql_query is None:\n",
        "        return f\"I'm sorry, but I encountered an error when processing your request: {response}\"\n",
        "\n",
        "    # Generate natural language explanation\n",
        "    explanation = format_result_with_llm(user_query, sql_query, response)\n",
        "\n",
        "    # Return results\n",
        "    if show_sql:\n",
        "        return f\"SQL Query: {sql_query}\\n\\n{explanation}\"\n",
        "    else:\n",
        "        return explanation"
      ],
      "metadata": {
        "id": "dE1KnJsYIilt"
      },
      "execution_count": null,
      "outputs": []
    },
    {
      "cell_type": "markdown",
      "source": [
        "Find the year with the highest poverty rate for Black individuals in Marion County"
      ],
      "metadata": {
        "id": "FKPF9vxg5-uZ"
      }
    },
    {
      "cell_type": "code",
      "source": [
        "def run_interactive_query():\n",
        "    \"\"\"Run an interactive query and display results\"\"\"\n",
        "    user_query = input(\"Enter your question about the data: \")\n",
        "    if user_query.strip():\n",
        "        print(\"\\nProcessing your query...\\n\")\n",
        "        result = process_query(user_query, show_sql=True)\n",
        "        print(result)\n",
        "    else:\n",
        "        print(\"Empty query. Please try again with a valid question.\")\n",
        "\n",
        "# Run an interactive query\n",
        "run_interactive_query()"
      ],
      "metadata": {
        "colab": {
          "base_uri": "https://localhost:8080/"
        },
        "id": "_QBRezIzJraI",
        "outputId": "16c1d93c-9ae1-4bfe-9798-8c7acc627040"
      },
      "execution_count": null,
      "outputs": [
        {
          "output_type": "stream",
          "name": "stdout",
          "text": [
            "Enter your question about the data: Find the year with the highest poverty rate for Black individuals in Marion County\n",
            "\n",
            "Processing your query...\n",
            "\n",
            "SQL Query: SELECT YEAR, \"Poverty Rate - Marion - Black\" \n",
            "FROM savi_basic_needs_data \n",
            "ORDER BY \"Poverty Rate - Marion - Black\" DESC \n",
            "LIMIT 1;\n",
            "\n",
            "The year with the highest poverty rate for Black individuals in Marion County was 2015, with a poverty rate of 29.5%. This means that approximately 29.5% of the Black population in Marion County lived in poverty that year.\n"
          ]
        }
      ]
    },
    {
      "cell_type": "markdown",
      "source": [
        "Which counties have the largest area in square miles and return the top 3 results?"
      ],
      "metadata": {
        "id": "qgMVazhZ6wXz"
      }
    },
    {
      "cell_type": "code",
      "source": [
        "def run_interactive_query():\n",
        "    \"\"\"Run an interactive query and display results\"\"\"\n",
        "    user_query = input(\"Enter your question about the data: \")\n",
        "    if user_query.strip():\n",
        "        print(\"\\nProcessing your query...\\n\")\n",
        "        result = process_query(user_query, show_sql=True)\n",
        "        print(result)\n",
        "    else:\n",
        "        print(\"Empty query. Please try again with a valid question.\")\n",
        "\n",
        "# Run an interactive query\n",
        "run_interactive_query()"
      ],
      "metadata": {
        "id": "oHB8faoZIiqH",
        "colab": {
          "base_uri": "https://localhost:8080/"
        },
        "outputId": "7aa73cfb-3238-4cf1-aaf1-ca970f0c5edf"
      },
      "execution_count": null,
      "outputs": [
        {
          "output_type": "stream",
          "name": "stdout",
          "text": [
            "Enter your question about the data: Which counties have the largest area in square miles and return the top 3 results?\n",
            "\n",
            "Processing your query...\n",
            "\n",
            "SQL Query: SELECT COUNTY, AREA_SQMI\n",
            "FROM svi_indiana_in\n",
            "ORDER BY AREA_SQMI DESC\n",
            "LIMIT 3;\n",
            "\n",
            "Based on the data, the top 3 counties in Indiana with the largest area in square miles are: \n",
            "\n",
            "1. Allen County, with an area of 657.30 square miles, \n",
            "2. LaPorte County, with an area of 598.29 square miles, and \n",
            "3. Jasper County, with an area of 559.68 square miles.\n",
            "\n",
            "These three counties have the largest land areas in the state, with Allen County being the largest.\n"
          ]
        }
      ]
    }
  ]
}